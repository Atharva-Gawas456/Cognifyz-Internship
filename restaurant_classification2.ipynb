{
 "cells": [
  {
   "cell_type": "markdown",
   "source": [
    "# Find Restaurant Cuisines\n",
    "\n",
    "**Purpose:** A simplified notebook to load the restaurant dataset and find the cuisines offered by a specific restaurant name."
   ]
  },
  {
   "cell_type": "code",
   "execution_count": 1,
   "metadata": {},
   "outputs": [],
   "source": [
    "import pandas as pd"
   ]
  },
  {
   "cell_type": "code",
   "execution_count": 2,
   "metadata": {},
   "outputs": [
    {
     "data": {
      "text/html": [
       "<div>\n",
       "<style scoped>\n",
       "    .dataframe tbody tr th:only-of-type {\n",
       "        vertical-align: middle;\n",
       "    }\n",
       "\n",
       "    .dataframe tbody tr th {\n",
       "        vertical-align: top;\n",
       "    }\n",
       "\n",
       "    .dataframe thead th {\n",
       "        text-align: right;\n",
       "    }\n",
       "</style>\n",
       "<table border=\"1\" class=\"dataframe\">\n",
       "  <thead>\n",
       "    <tr style=\"text-align: right;\">\n",
       "      <th></th>\n",
       "      <th>Restaurant ID</th>\n",
       "      <th>Restaurant Name</th>\n",
       "      <th>Cuisines</th>\n",
       "    </tr>\n",
       "  </thead>\n",
       "  <tbody>\n",
       "    <tr>\n",
       "      <th>0</th>\n",
       "      <td>6317637</td>\n",
       "      <td>Le Petit Souffle</td>\n",
       "      <td>French, Japanese, Desserts</td>\n",
       "    </tr>\n",
       "    <tr>\n",
       "      <th>1</th>\n",
       "      <td>6304287</td>\n",
       "      <td>Izakaya Kikufuji</td>\n",
       "      <td>Japanese</td>\n",
       "    </tr>\n",
       "  </tbody>\n",
       "</table>\n",
       "</div>"
      ],
      "text/plain": [
       "   Restaurant ID     Restaurant Name                      Cuisines\n",
       "0        6317637    Le Petit Souffle    French, Japanese, Desserts\n",
       "1        6304287    Izakaya Kikufuji                      Japanese"
      ]
     },
     "execution_count": 2,
     "metadata": {},
     "output_type": "execute_result"
    }
   ],
   "source": [
    "# Load the dataset\n",
    "df = pd.read_csv('Dataset .csv')\n",
    "\n",
    "# Display the relevant columns for the first few rows\n",
    "df[['Restaurant ID', 'Restaurant Name', 'Cuisines']].head(2)"
   ]
  },
  {
   "cell_type": "markdown",
   "source": [
    "## Get Cuisines for a Restaurant"
   ]
  },
  {
   "cell_type": "code",
   "execution_count": 3,
   "metadata": {},
   "outputs": [
    {
     "name": "stdout",
     "output_type": "stream",
     "text": [
      "Cuisines for 'Ooma': Japanese, Sushi\n"
     ]
    }
   ],
   "source": [
    "def print_cuisines_for_restaurant(name, dataframe):\n",
    "    \"\"\"Finds and prints the cuisines for a given restaurant name.\"\"\"\n",
    "    # Filter the dataframe for the specified restaurant name\n",
    "    restaurant = dataframe[dataframe['Restaurant Name'].str.lower() == name.lower()]\n",
    "    \n",
    "    if not restaurant.empty:\n",
    "        # Get the cuisines from the first match\n",
    "        cuisines = restaurant['Cuisines'].iloc[0]\n",
    "        print(f\"Cuisines for '{name}': {cuisines}\")\n",
    "    else:\n",
    "        print(f\"Restaurant '{name}' not found in the dataset.\")\n",
    "\n",
    "# Example: Find cuisines for the restaurant named 'Ooma'\n",
    "print_cuisines_for_restaurant('Ooma', df)"
   ]
  }
 ],
 "metadata": {
  "kernelspec": {
   "display_name": "Python 3",
   "language": "python",
   "name": "python3"
  }
 },
 "nbformat": 4,
 "nbformat_minor": 2
}